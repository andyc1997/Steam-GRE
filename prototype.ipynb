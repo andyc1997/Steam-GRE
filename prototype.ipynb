{
 "cells": [
  {
   "cell_type": "markdown",
   "id": "2be3b5a3",
   "metadata": {
    "papermill": {
     "duration": 0.002613,
     "end_time": "2025-09-09T15:57:32.756188",
     "exception": false,
     "start_time": "2025-09-09T15:57:32.753575",
     "status": "completed"
    },
    "tags": []
   },
   "source": [
    "# Section 1: Preprocessing\n",
    "+ In this section, we deal with all preprocessing steps required for the rest of this notebook, including importing libraries, installing necessary packages, initializing client module for Google BigQuery etc."
   ]
  },
  {
   "cell_type": "code",
   "execution_count": 1,
   "id": "40e6f7f2",
   "metadata": {
    "execution": {
     "iopub.execute_input": "2025-09-09T15:57:32.762248Z",
     "iopub.status.busy": "2025-09-09T15:57:32.761916Z",
     "iopub.status.idle": "2025-09-09T15:57:32.775200Z",
     "shell.execute_reply": "2025-09-09T15:57:32.773988Z"
    },
    "papermill": {
     "duration": 0.018261,
     "end_time": "2025-09-09T15:57:32.777064",
     "exception": false,
     "start_time": "2025-09-09T15:57:32.758803",
     "status": "completed"
    },
    "tags": []
   },
   "outputs": [
    {
     "data": {
      "text/plain": [
       "'/kaggle/working'"
      ]
     },
     "execution_count": 1,
     "metadata": {},
     "output_type": "execute_result"
    }
   ],
   "source": [
    "# Path checking\n",
    "%pwd"
   ]
  },
  {
   "cell_type": "code",
   "execution_count": 2,
   "id": "0509a532",
   "metadata": {
    "execution": {
     "iopub.execute_input": "2025-09-09T15:57:32.785474Z",
     "iopub.status.busy": "2025-09-09T15:57:32.784418Z",
     "iopub.status.idle": "2025-09-09T15:57:38.293367Z",
     "shell.execute_reply": "2025-09-09T15:57:38.292183Z"
    },
    "papermill": {
     "duration": 5.515805,
     "end_time": "2025-09-09T15:57:38.295512",
     "exception": false,
     "start_time": "2025-09-09T15:57:32.779707",
     "status": "completed"
    },
    "tags": []
   },
   "outputs": [
    {
     "name": "stdout",
     "output_type": "stream",
     "text": [
      "Collecting google-cloud-bigquery-storage\r\n",
      "  Downloading google_cloud_bigquery_storage-2.33.0-py3-none-any.whl.metadata (10 kB)\r\n",
      "Requirement already satisfied: google-api-core!=2.0.*,!=2.1.*,!=2.10.*,!=2.2.*,!=2.3.*,!=2.4.*,!=2.5.*,!=2.6.*,!=2.7.*,!=2.8.*,!=2.9.*,<3.0.0,>=1.34.0 in /usr/local/lib/python3.11/dist-packages (from google-api-core[grpc]!=2.0.*,!=2.1.*,!=2.10.*,!=2.2.*,!=2.3.*,!=2.4.*,!=2.5.*,!=2.6.*,!=2.7.*,!=2.8.*,!=2.9.*,<3.0.0,>=1.34.0->google-cloud-bigquery-storage) (1.34.1)\r\n",
      "Requirement already satisfied: google-auth<3.0.0,>=2.14.1 in /usr/local/lib/python3.11/dist-packages (from google-cloud-bigquery-storage) (2.40.3)\r\n",
      "Requirement already satisfied: proto-plus<2.0.0,>=1.22.0 in /usr/local/lib/python3.11/dist-packages (from google-cloud-bigquery-storage) (1.26.1)\r\n",
      "Requirement already satisfied: protobuf!=3.20.0,!=3.20.1,!=4.21.0,!=4.21.1,!=4.21.2,!=4.21.3,!=4.21.4,!=4.21.5,<7.0.0,>=3.20.2 in /usr/local/lib/python3.11/dist-packages (from google-cloud-bigquery-storage) (3.20.3)\r\n",
      "Requirement already satisfied: googleapis-common-protos<2.0dev,>=1.56.2 in /usr/local/lib/python3.11/dist-packages (from google-api-core!=2.0.*,!=2.1.*,!=2.10.*,!=2.2.*,!=2.3.*,!=2.4.*,!=2.5.*,!=2.6.*,!=2.7.*,!=2.8.*,!=2.9.*,<3.0.0,>=1.34.0->google-api-core[grpc]!=2.0.*,!=2.1.*,!=2.10.*,!=2.2.*,!=2.3.*,!=2.4.*,!=2.5.*,!=2.6.*,!=2.7.*,!=2.8.*,!=2.9.*,<3.0.0,>=1.34.0->google-cloud-bigquery-storage) (1.70.0)\r\n",
      "Requirement already satisfied: requests<3.0.0dev,>=2.18.0 in /usr/local/lib/python3.11/dist-packages (from google-api-core!=2.0.*,!=2.1.*,!=2.10.*,!=2.2.*,!=2.3.*,!=2.4.*,!=2.5.*,!=2.6.*,!=2.7.*,!=2.8.*,!=2.9.*,<3.0.0,>=1.34.0->google-api-core[grpc]!=2.0.*,!=2.1.*,!=2.10.*,!=2.2.*,!=2.3.*,!=2.4.*,!=2.5.*,!=2.6.*,!=2.7.*,!=2.8.*,!=2.9.*,<3.0.0,>=1.34.0->google-cloud-bigquery-storage) (2.32.4)\r\n",
      "Requirement already satisfied: grpcio<2.0dev,>=1.33.2 in /usr/local/lib/python3.11/dist-packages (from google-api-core[grpc]!=2.0.*,!=2.1.*,!=2.10.*,!=2.2.*,!=2.3.*,!=2.4.*,!=2.5.*,!=2.6.*,!=2.7.*,!=2.8.*,!=2.9.*,<3.0.0,>=1.34.0->google-cloud-bigquery-storage) (1.73.1)\r\n",
      "Requirement already satisfied: grpcio-status<2.0dev,>=1.33.2 in /usr/local/lib/python3.11/dist-packages (from google-api-core[grpc]!=2.0.*,!=2.1.*,!=2.10.*,!=2.2.*,!=2.3.*,!=2.4.*,!=2.5.*,!=2.6.*,!=2.7.*,!=2.8.*,!=2.9.*,<3.0.0,>=1.34.0->google-cloud-bigquery-storage) (1.49.0rc1)\r\n",
      "Requirement already satisfied: cachetools<6.0,>=2.0.0 in /usr/local/lib/python3.11/dist-packages (from google-auth<3.0.0,>=2.14.1->google-cloud-bigquery-storage) (5.5.2)\r\n",
      "Requirement already satisfied: pyasn1-modules>=0.2.1 in /usr/local/lib/python3.11/dist-packages (from google-auth<3.0.0,>=2.14.1->google-cloud-bigquery-storage) (0.4.2)\r\n",
      "Requirement already satisfied: rsa<5,>=3.1.4 in /usr/local/lib/python3.11/dist-packages (from google-auth<3.0.0,>=2.14.1->google-cloud-bigquery-storage) (4.9.1)\r\n",
      "Requirement already satisfied: pyasn1<0.7.0,>=0.6.1 in /usr/local/lib/python3.11/dist-packages (from pyasn1-modules>=0.2.1->google-auth<3.0.0,>=2.14.1->google-cloud-bigquery-storage) (0.6.1)\r\n",
      "Requirement already satisfied: charset_normalizer<4,>=2 in /usr/local/lib/python3.11/dist-packages (from requests<3.0.0dev,>=2.18.0->google-api-core!=2.0.*,!=2.1.*,!=2.10.*,!=2.2.*,!=2.3.*,!=2.4.*,!=2.5.*,!=2.6.*,!=2.7.*,!=2.8.*,!=2.9.*,<3.0.0,>=1.34.0->google-api-core[grpc]!=2.0.*,!=2.1.*,!=2.10.*,!=2.2.*,!=2.3.*,!=2.4.*,!=2.5.*,!=2.6.*,!=2.7.*,!=2.8.*,!=2.9.*,<3.0.0,>=1.34.0->google-cloud-bigquery-storage) (3.4.2)\r\n",
      "Requirement already satisfied: idna<4,>=2.5 in /usr/local/lib/python3.11/dist-packages (from requests<3.0.0dev,>=2.18.0->google-api-core!=2.0.*,!=2.1.*,!=2.10.*,!=2.2.*,!=2.3.*,!=2.4.*,!=2.5.*,!=2.6.*,!=2.7.*,!=2.8.*,!=2.9.*,<3.0.0,>=1.34.0->google-api-core[grpc]!=2.0.*,!=2.1.*,!=2.10.*,!=2.2.*,!=2.3.*,!=2.4.*,!=2.5.*,!=2.6.*,!=2.7.*,!=2.8.*,!=2.9.*,<3.0.0,>=1.34.0->google-cloud-bigquery-storage) (3.10)\r\n",
      "Requirement already satisfied: urllib3<3,>=1.21.1 in /usr/local/lib/python3.11/dist-packages (from requests<3.0.0dev,>=2.18.0->google-api-core!=2.0.*,!=2.1.*,!=2.10.*,!=2.2.*,!=2.3.*,!=2.4.*,!=2.5.*,!=2.6.*,!=2.7.*,!=2.8.*,!=2.9.*,<3.0.0,>=1.34.0->google-api-core[grpc]!=2.0.*,!=2.1.*,!=2.10.*,!=2.2.*,!=2.3.*,!=2.4.*,!=2.5.*,!=2.6.*,!=2.7.*,!=2.8.*,!=2.9.*,<3.0.0,>=1.34.0->google-cloud-bigquery-storage) (2.5.0)\r\n",
      "Requirement already satisfied: certifi>=2017.4.17 in /usr/local/lib/python3.11/dist-packages (from requests<3.0.0dev,>=2.18.0->google-api-core!=2.0.*,!=2.1.*,!=2.10.*,!=2.2.*,!=2.3.*,!=2.4.*,!=2.5.*,!=2.6.*,!=2.7.*,!=2.8.*,!=2.9.*,<3.0.0,>=1.34.0->google-api-core[grpc]!=2.0.*,!=2.1.*,!=2.10.*,!=2.2.*,!=2.3.*,!=2.4.*,!=2.5.*,!=2.6.*,!=2.7.*,!=2.8.*,!=2.9.*,<3.0.0,>=1.34.0->google-cloud-bigquery-storage) (2025.6.15)\r\n",
      "Downloading google_cloud_bigquery_storage-2.33.0-py3-none-any.whl (296 kB)\r\n",
      "\u001b[2K   \u001b[90m━━━━━━━━━━━━━━━━━━━━━━━━━━━━━━━━━━━━━━━━\u001b[0m \u001b[32m296.5/296.5 kB\u001b[0m \u001b[31m9.5 MB/s\u001b[0m eta \u001b[36m0:00:00\u001b[0m\r\n",
      "\u001b[?25hInstalling collected packages: google-cloud-bigquery-storage\r\n",
      "\u001b[31mERROR: pip's dependency resolver does not currently take into account all the packages that are installed. This behaviour is the source of the following dependency conflicts.\r\n",
      "bigframes 2.8.0 requires google-cloud-bigquery[bqstorage,pandas]>=3.31.0, but you have google-cloud-bigquery 3.25.0 which is incompatible.\r\n",
      "bigframes 2.8.0 requires rich<14,>=12.4.4, but you have rich 14.0.0 which is incompatible.\u001b[0m\u001b[31m\r\n",
      "\u001b[0mSuccessfully installed google-cloud-bigquery-storage-2.33.0\r\n"
     ]
    }
   ],
   "source": [
    "# Install google-cloud-bigquery-storage for running BigQuery SQL without error.\n",
    "!pip install google-cloud-bigquery-storage"
   ]
  },
  {
   "cell_type": "code",
   "execution_count": 3,
   "id": "775174e9",
   "metadata": {
    "_cell_guid": "349ee4ea-ce75-410b-bd92-a5f00109b015",
    "_uuid": "1c02a39a-5eb3-496d-a462-5b866ed96c32",
    "collapsed": false,
    "execution": {
     "iopub.execute_input": "2025-09-09T15:57:38.302926Z",
     "iopub.status.busy": "2025-09-09T15:57:38.302571Z",
     "iopub.status.idle": "2025-09-09T15:57:58.476627Z",
     "shell.execute_reply": "2025-09-09T15:57:58.475685Z"
    },
    "jupyter": {
     "outputs_hidden": false
    },
    "papermill": {
     "duration": 20.179756,
     "end_time": "2025-09-09T15:57:58.478324",
     "exception": false,
     "start_time": "2025-09-09T15:57:38.298568",
     "status": "completed"
    },
    "tags": []
   },
   "outputs": [],
   "source": [
    "# Import all libraries for this project\n",
    "import pandas as pd\n",
    "\n",
    "from google.cloud import bigquery, storage\n",
    "from datetime import datetime, timedelta"
   ]
  },
  {
   "cell_type": "code",
   "execution_count": 4,
   "id": "11cce035",
   "metadata": {
    "execution": {
     "iopub.execute_input": "2025-09-09T15:57:58.485292Z",
     "iopub.status.busy": "2025-09-09T15:57:58.484747Z",
     "iopub.status.idle": "2025-09-09T15:57:58.489896Z",
     "shell.execute_reply": "2025-09-09T15:57:58.488862Z"
    },
    "papermill": {
     "duration": 0.010299,
     "end_time": "2025-09-09T15:57:58.491404",
     "exception": false,
     "start_time": "2025-09-09T15:57:58.481105",
     "status": "completed"
    },
    "tags": []
   },
   "outputs": [],
   "source": [
    "# Initialize BigQuery client  \n",
    "client = bigquery.Client(project='analog-delight-470708-d0')"
   ]
  },
  {
   "cell_type": "code",
   "execution_count": 5,
   "id": "8821adba",
   "metadata": {
    "execution": {
     "iopub.execute_input": "2025-09-09T15:57:58.497707Z",
     "iopub.status.busy": "2025-09-09T15:57:58.497401Z",
     "iopub.status.idle": "2025-09-09T15:58:02.795678Z",
     "shell.execute_reply": "2025-09-09T15:58:02.794776Z"
    },
    "papermill": {
     "duration": 4.303582,
     "end_time": "2025-09-09T15:58:02.797686",
     "exception": false,
     "start_time": "2025-09-09T15:57:58.494104",
     "status": "completed"
    },
    "tags": []
   },
   "outputs": [],
   "source": [
    "# testing!\n",
    "query = \"\"\"\n",
    "select `App ID`, Name, `Short Description` \n",
    "from `analog-delight-470708-d0.steam.steam_game_list`\n",
    "where `App ID` = '1032020'; \n",
    "\"\"\"\n",
    "df = client.query(query).to_dataframe()"
   ]
  },
  {
   "cell_type": "code",
   "execution_count": 6,
   "id": "59330848",
   "metadata": {
    "execution": {
     "iopub.execute_input": "2025-09-09T15:58:02.805061Z",
     "iopub.status.busy": "2025-09-09T15:58:02.804139Z",
     "iopub.status.idle": "2025-09-09T15:58:02.831446Z",
     "shell.execute_reply": "2025-09-09T15:58:02.830354Z"
    },
    "papermill": {
     "duration": 0.032449,
     "end_time": "2025-09-09T15:58:02.833098",
     "exception": false,
     "start_time": "2025-09-09T15:58:02.800649",
     "status": "completed"
    },
    "tags": []
   },
   "outputs": [
    {
     "data": {
      "text/html": [
       "<div>\n",
       "<style scoped>\n",
       "    .dataframe tbody tr th:only-of-type {\n",
       "        vertical-align: middle;\n",
       "    }\n",
       "\n",
       "    .dataframe tbody tr th {\n",
       "        vertical-align: top;\n",
       "    }\n",
       "\n",
       "    .dataframe thead th {\n",
       "        text-align: right;\n",
       "    }\n",
       "</style>\n",
       "<table border=\"1\" class=\"dataframe\">\n",
       "  <thead>\n",
       "    <tr style=\"text-align: right;\">\n",
       "      <th></th>\n",
       "      <th>App ID</th>\n",
       "      <th>Name</th>\n",
       "      <th>Short Description</th>\n",
       "    </tr>\n",
       "  </thead>\n",
       "  <tbody>\n",
       "    <tr>\n",
       "      <th>0</th>\n",
       "      <td>1032020</td>\n",
       "      <td>Shantalia and Corali'hulu</td>\n",
       "      <td>A short and linear story. Every 20 years, a ma...</td>\n",
       "    </tr>\n",
       "  </tbody>\n",
       "</table>\n",
       "</div>"
      ],
      "text/plain": [
       "    App ID                       Name  \\\n",
       "0  1032020  Shantalia and Corali'hulu   \n",
       "\n",
       "                                   Short Description  \n",
       "0  A short and linear story. Every 20 years, a ma...  "
      ]
     },
     "execution_count": 6,
     "metadata": {},
     "output_type": "execute_result"
    }
   ],
   "source": [
    "df"
   ]
  }
 ],
 "metadata": {
  "kaggle": {
   "accelerator": "none",
   "dataSources": [
    {
     "databundleVersionId": 13391012,
     "sourceId": 110281,
     "sourceType": "competition"
    },
    {
     "datasetId": 2634549,
     "sourceId": 4507689,
     "sourceType": "datasetVersion"
    }
   ],
   "dockerImageVersionId": 31089,
   "isGpuEnabled": false,
   "isInternetEnabled": true,
   "language": "python",
   "sourceType": "notebook"
  },
  "kernelspec": {
   "display_name": "Python 3",
   "language": "python",
   "name": "python3"
  },
  "language_info": {
   "codemirror_mode": {
    "name": "ipython",
    "version": 3
   },
   "file_extension": ".py",
   "mimetype": "text/x-python",
   "name": "python",
   "nbconvert_exporter": "python",
   "pygments_lexer": "ipython3",
   "version": "3.11.13"
  },
  "papermill": {
   "default_parameters": {},
   "duration": 38.621927,
   "end_time": "2025-09-09T15:58:05.951590",
   "environment_variables": {},
   "exception": null,
   "input_path": "__notebook__.ipynb",
   "output_path": "__notebook__.ipynb",
   "parameters": {},
   "start_time": "2025-09-09T15:57:27.329663",
   "version": "2.6.0"
  }
 },
 "nbformat": 4,
 "nbformat_minor": 5
}

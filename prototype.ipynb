{
 "cells": [
  {
   "cell_type": "code",
   "execution_count": 1,
   "id": "41ef15db",
   "metadata": {
    "_cell_guid": "349ee4ea-ce75-410b-bd92-a5f00109b015",
    "_uuid": "1c02a39a-5eb3-496d-a462-5b866ed96c32",
    "collapsed": false,
    "execution": {
     "iopub.execute_input": "2025-08-20T15:51:18.631843Z",
     "iopub.status.busy": "2025-08-20T15:51:18.631458Z",
     "iopub.status.idle": "2025-08-20T15:51:39.022991Z",
     "shell.execute_reply": "2025-08-20T15:51:39.022206Z"
    },
    "jupyter": {
     "outputs_hidden": false
    },
    "papermill": {
     "duration": 20.397032,
     "end_time": "2025-08-20T15:51:39.024868",
     "exception": false,
     "start_time": "2025-08-20T15:51:18.627836",
     "status": "completed"
    },
    "tags": []
   },
   "outputs": [],
   "source": [
    "import pandas as pd\n",
    "\n",
    "from google.cloud import bigquery\n",
    "from datetime import datetime, timedelta"
   ]
  },
  {
   "cell_type": "code",
   "execution_count": 2,
   "id": "9779a808",
   "metadata": {
    "execution": {
     "iopub.execute_input": "2025-08-20T15:51:39.030601Z",
     "iopub.status.busy": "2025-08-20T15:51:39.030108Z",
     "iopub.status.idle": "2025-08-20T15:51:39.035878Z",
     "shell.execute_reply": "2025-08-20T15:51:39.034551Z"
    },
    "papermill": {
     "duration": 0.010153,
     "end_time": "2025-08-20T15:51:39.037496",
     "exception": false,
     "start_time": "2025-08-20T15:51:39.027343",
     "status": "completed"
    },
    "tags": []
   },
   "outputs": [
    {
     "name": "stdout",
     "output_type": "stream",
     "text": [
      "Using Kaggle's public dataset BigQuery integration.\n"
     ]
    }
   ],
   "source": [
    "# Initialize BigQuery client  \n",
    "client = bigquery.Client()  "
   ]
  },
  {
   "cell_type": "code",
   "execution_count": 3,
   "id": "823e54ff",
   "metadata": {
    "execution": {
     "iopub.execute_input": "2025-08-20T15:51:39.042814Z",
     "iopub.status.busy": "2025-08-20T15:51:39.042503Z",
     "iopub.status.idle": "2025-08-20T15:51:39.049063Z",
     "shell.execute_reply": "2025-08-20T15:51:39.048270Z"
    },
    "papermill": {
     "duration": 0.010907,
     "end_time": "2025-08-20T15:51:39.050580",
     "exception": false,
     "start_time": "2025-08-20T15:51:39.039673",
     "status": "completed"
    },
    "tags": []
   },
   "outputs": [
    {
     "data": {
      "text/plain": [
       "'/kaggle/working'"
      ]
     },
     "execution_count": 3,
     "metadata": {},
     "output_type": "execute_result"
    }
   ],
   "source": [
    "%pwd"
   ]
  },
  {
   "cell_type": "code",
   "execution_count": 4,
   "id": "17d39888",
   "metadata": {
    "execution": {
     "iopub.execute_input": "2025-08-20T15:51:39.056333Z",
     "iopub.status.busy": "2025-08-20T15:51:39.056019Z",
     "iopub.status.idle": "2025-08-20T15:51:43.276844Z",
     "shell.execute_reply": "2025-08-20T15:51:43.275900Z"
    },
    "papermill": {
     "duration": 4.225649,
     "end_time": "2025-08-20T15:51:43.278534",
     "exception": false,
     "start_time": "2025-08-20T15:51:39.052885",
     "status": "completed"
    },
    "tags": []
   },
   "outputs": [],
   "source": [
    "data_steam_snapshot = pd.read_json('/kaggle/input/all-55000-games-on-steam-november-2022/steam_games.json', orient='index')"
   ]
  },
  {
   "cell_type": "code",
   "execution_count": 5,
   "id": "901be76b",
   "metadata": {
    "execution": {
     "iopub.execute_input": "2025-08-20T15:51:43.283964Z",
     "iopub.status.busy": "2025-08-20T15:51:43.283671Z",
     "iopub.status.idle": "2025-08-20T15:51:43.323002Z",
     "shell.execute_reply": "2025-08-20T15:51:43.322018Z"
    },
    "papermill": {
     "duration": 0.044001,
     "end_time": "2025-08-20T15:51:43.324692",
     "exception": false,
     "start_time": "2025-08-20T15:51:43.280691",
     "status": "completed"
    },
    "tags": []
   },
   "outputs": [
    {
     "data": {
      "text/html": [
       "<div>\n",
       "<style scoped>\n",
       "    .dataframe tbody tr th:only-of-type {\n",
       "        vertical-align: middle;\n",
       "    }\n",
       "\n",
       "    .dataframe tbody tr th {\n",
       "        vertical-align: top;\n",
       "    }\n",
       "\n",
       "    .dataframe thead th {\n",
       "        text-align: right;\n",
       "    }\n",
       "</style>\n",
       "<table border=\"1\" class=\"dataframe\">\n",
       "  <thead>\n",
       "    <tr style=\"text-align: right;\">\n",
       "      <th></th>\n",
       "      <th>appid</th>\n",
       "      <th>name</th>\n",
       "      <th>short_description</th>\n",
       "      <th>developer</th>\n",
       "      <th>publisher</th>\n",
       "      <th>genre</th>\n",
       "      <th>tags</th>\n",
       "      <th>type</th>\n",
       "      <th>categories</th>\n",
       "      <th>owners</th>\n",
       "      <th>...</th>\n",
       "      <th>price</th>\n",
       "      <th>initialprice</th>\n",
       "      <th>discount</th>\n",
       "      <th>ccu</th>\n",
       "      <th>languages</th>\n",
       "      <th>platforms</th>\n",
       "      <th>release_date</th>\n",
       "      <th>required_age</th>\n",
       "      <th>website</th>\n",
       "      <th>header_image</th>\n",
       "    </tr>\n",
       "  </thead>\n",
       "  <tbody>\n",
       "    <tr>\n",
       "      <th>10</th>\n",
       "      <td>10</td>\n",
       "      <td>Counter-Strike</td>\n",
       "      <td>Play the world's number 1 online action game. ...</td>\n",
       "      <td>Valve</td>\n",
       "      <td>Valve</td>\n",
       "      <td>Action</td>\n",
       "      <td>{'Action': 5426, 'FPS': 4831, 'Multiplayer': 3...</td>\n",
       "      <td>game</td>\n",
       "      <td>[Multi-player, Valve Anti-Cheat enabled, Onlin...</td>\n",
       "      <td>10,000,000 .. 20,000,000</td>\n",
       "      <td>...</td>\n",
       "      <td>999</td>\n",
       "      <td>999</td>\n",
       "      <td>0</td>\n",
       "      <td>13990</td>\n",
       "      <td>English, French, German, Italian, Spanish - Sp...</td>\n",
       "      <td>{'windows': True, 'mac': True, 'linux': True}</td>\n",
       "      <td>2000/11/1</td>\n",
       "      <td>0</td>\n",
       "      <td></td>\n",
       "      <td>https://cdn.akamai.steamstatic.com/steam/apps/...</td>\n",
       "    </tr>\n",
       "    <tr>\n",
       "      <th>1000000</th>\n",
       "      <td>1000000</td>\n",
       "      <td>ASCENXION</td>\n",
       "      <td>ASCENXION is a 2D shoot 'em up game where you ...</td>\n",
       "      <td>IndigoBlue Game Studio</td>\n",
       "      <td>PsychoFlux Entertainment</td>\n",
       "      <td>Action, Adventure, Indie</td>\n",
       "      <td>{'Shoot 'Em Up': 186, 'Metroidvania': 181, 'Bu...</td>\n",
       "      <td>game</td>\n",
       "      <td>[Single-player, Partial Controller Support, St...</td>\n",
       "      <td>0 .. 20,000</td>\n",
       "      <td>...</td>\n",
       "      <td>999</td>\n",
       "      <td>999</td>\n",
       "      <td>0</td>\n",
       "      <td>0</td>\n",
       "      <td>English, Korean, Simplified Chinese</td>\n",
       "      <td>{'windows': True, 'mac': False, 'linux': False}</td>\n",
       "      <td>2021/05/14</td>\n",
       "      <td>0</td>\n",
       "      <td></td>\n",
       "      <td>https://cdn.akamai.steamstatic.com/steam/apps/...</td>\n",
       "    </tr>\n",
       "    <tr>\n",
       "      <th>1000010</th>\n",
       "      <td>1000010</td>\n",
       "      <td>Crown Trick</td>\n",
       "      <td>Enter a labyrinth that moves as you move, wher...</td>\n",
       "      <td>NEXT Studios</td>\n",
       "      <td>Team17, NEXT Studios</td>\n",
       "      <td>Adventure, Indie, RPG, Strategy</td>\n",
       "      <td>{'Rogue-like': 268, 'Turn-Based Combat': 254, ...</td>\n",
       "      <td>game</td>\n",
       "      <td>[Single-player, Partial Controller Support, St...</td>\n",
       "      <td>200,000 .. 500,000</td>\n",
       "      <td>...</td>\n",
       "      <td>599</td>\n",
       "      <td>1999</td>\n",
       "      <td>70</td>\n",
       "      <td>99</td>\n",
       "      <td>Simplified Chinese, English, Japanese, Traditi...</td>\n",
       "      <td>{'windows': True, 'mac': False, 'linux': False}</td>\n",
       "      <td>2020/10/16</td>\n",
       "      <td>0</td>\n",
       "      <td></td>\n",
       "      <td>https://cdn.akamai.steamstatic.com/steam/apps/...</td>\n",
       "    </tr>\n",
       "    <tr>\n",
       "      <th>1000030</th>\n",
       "      <td>1000030</td>\n",
       "      <td>Cook, Serve, Delicious! 3?!</td>\n",
       "      <td>Cook, serve and manage your food truck as you ...</td>\n",
       "      <td>Vertigo Gaming Inc.</td>\n",
       "      <td>Vertigo Gaming Inc.</td>\n",
       "      <td>Action, Indie, Simulation, Strategy</td>\n",
       "      <td>{'Typing': 221, 'Management': 213, 'Casual': 2...</td>\n",
       "      <td>game</td>\n",
       "      <td>[Multi-player, Single-player, Co-op, Steam Ach...</td>\n",
       "      <td>100,000 .. 200,000</td>\n",
       "      <td>...</td>\n",
       "      <td>1999</td>\n",
       "      <td>1999</td>\n",
       "      <td>0</td>\n",
       "      <td>76</td>\n",
       "      <td>English</td>\n",
       "      <td>{'windows': True, 'mac': True, 'linux': False}</td>\n",
       "      <td>2020/10/14</td>\n",
       "      <td>0</td>\n",
       "      <td>http://www.cookservedelicious.com</td>\n",
       "      <td>https://cdn.akamai.steamstatic.com/steam/apps/...</td>\n",
       "    </tr>\n",
       "    <tr>\n",
       "      <th>1000040</th>\n",
       "      <td>1000040</td>\n",
       "      <td>细胞战争</td>\n",
       "      <td>这是一款打击感十足的细胞主题游戏！操作简单但活下去却不简单，“你”作为侵入人体的细菌病毒，通...</td>\n",
       "      <td>DoubleC Games</td>\n",
       "      <td>DoubleC Games</td>\n",
       "      <td>Action, Casual, Indie, Simulation</td>\n",
       "      <td>{'Action': 22, 'Casual': 22, 'Indie': 21, 'Sim...</td>\n",
       "      <td>game</td>\n",
       "      <td>[Single-player]</td>\n",
       "      <td>0 .. 20,000</td>\n",
       "      <td>...</td>\n",
       "      <td>199</td>\n",
       "      <td>199</td>\n",
       "      <td>0</td>\n",
       "      <td>0</td>\n",
       "      <td>Simplified Chinese</td>\n",
       "      <td>{'windows': True, 'mac': False, 'linux': False}</td>\n",
       "      <td>2019/03/30</td>\n",
       "      <td>0</td>\n",
       "      <td></td>\n",
       "      <td>https://cdn.akamai.steamstatic.com/steam/apps/...</td>\n",
       "    </tr>\n",
       "  </tbody>\n",
       "</table>\n",
       "<p>5 rows × 22 columns</p>\n",
       "</div>"
      ],
      "text/plain": [
       "           appid                         name  \\\n",
       "10            10               Counter-Strike   \n",
       "1000000  1000000                    ASCENXION   \n",
       "1000010  1000010                  Crown Trick   \n",
       "1000030  1000030  Cook, Serve, Delicious! 3?!   \n",
       "1000040  1000040                         细胞战争   \n",
       "\n",
       "                                         short_description  \\\n",
       "10       Play the world's number 1 online action game. ...   \n",
       "1000000  ASCENXION is a 2D shoot 'em up game where you ...   \n",
       "1000010  Enter a labyrinth that moves as you move, wher...   \n",
       "1000030  Cook, serve and manage your food truck as you ...   \n",
       "1000040  这是一款打击感十足的细胞主题游戏！操作简单但活下去却不简单，“你”作为侵入人体的细菌病毒，通...   \n",
       "\n",
       "                      developer                 publisher  \\\n",
       "10                        Valve                     Valve   \n",
       "1000000  IndigoBlue Game Studio  PsychoFlux Entertainment   \n",
       "1000010            NEXT Studios      Team17, NEXT Studios   \n",
       "1000030     Vertigo Gaming Inc.       Vertigo Gaming Inc.   \n",
       "1000040           DoubleC Games             DoubleC Games   \n",
       "\n",
       "                                       genre  \\\n",
       "10                                    Action   \n",
       "1000000             Action, Adventure, Indie   \n",
       "1000010      Adventure, Indie, RPG, Strategy   \n",
       "1000030  Action, Indie, Simulation, Strategy   \n",
       "1000040    Action, Casual, Indie, Simulation   \n",
       "\n",
       "                                                      tags  type  \\\n",
       "10       {'Action': 5426, 'FPS': 4831, 'Multiplayer': 3...  game   \n",
       "1000000  {'Shoot 'Em Up': 186, 'Metroidvania': 181, 'Bu...  game   \n",
       "1000010  {'Rogue-like': 268, 'Turn-Based Combat': 254, ...  game   \n",
       "1000030  {'Typing': 221, 'Management': 213, 'Casual': 2...  game   \n",
       "1000040  {'Action': 22, 'Casual': 22, 'Indie': 21, 'Sim...  game   \n",
       "\n",
       "                                                categories  \\\n",
       "10       [Multi-player, Valve Anti-Cheat enabled, Onlin...   \n",
       "1000000  [Single-player, Partial Controller Support, St...   \n",
       "1000010  [Single-player, Partial Controller Support, St...   \n",
       "1000030  [Multi-player, Single-player, Co-op, Steam Ach...   \n",
       "1000040                                    [Single-player]   \n",
       "\n",
       "                           owners  ...  price  initialprice  discount    ccu  \\\n",
       "10       10,000,000 .. 20,000,000  ...    999           999         0  13990   \n",
       "1000000               0 .. 20,000  ...    999           999         0      0   \n",
       "1000010        200,000 .. 500,000  ...    599          1999        70     99   \n",
       "1000030        100,000 .. 200,000  ...   1999          1999         0     76   \n",
       "1000040               0 .. 20,000  ...    199           199         0      0   \n",
       "\n",
       "                                                 languages  \\\n",
       "10       English, French, German, Italian, Spanish - Sp...   \n",
       "1000000                English, Korean, Simplified Chinese   \n",
       "1000010  Simplified Chinese, English, Japanese, Traditi...   \n",
       "1000030                                            English   \n",
       "1000040                                 Simplified Chinese   \n",
       "\n",
       "                                               platforms release_date  \\\n",
       "10         {'windows': True, 'mac': True, 'linux': True}    2000/11/1   \n",
       "1000000  {'windows': True, 'mac': False, 'linux': False}   2021/05/14   \n",
       "1000010  {'windows': True, 'mac': False, 'linux': False}   2020/10/16   \n",
       "1000030   {'windows': True, 'mac': True, 'linux': False}   2020/10/14   \n",
       "1000040  {'windows': True, 'mac': False, 'linux': False}   2019/03/30   \n",
       "\n",
       "        required_age                            website  \\\n",
       "10                 0                                      \n",
       "1000000            0                                      \n",
       "1000010            0                                      \n",
       "1000030            0  http://www.cookservedelicious.com   \n",
       "1000040            0                                      \n",
       "\n",
       "                                              header_image  \n",
       "10       https://cdn.akamai.steamstatic.com/steam/apps/...  \n",
       "1000000  https://cdn.akamai.steamstatic.com/steam/apps/...  \n",
       "1000010  https://cdn.akamai.steamstatic.com/steam/apps/...  \n",
       "1000030  https://cdn.akamai.steamstatic.com/steam/apps/...  \n",
       "1000040  https://cdn.akamai.steamstatic.com/steam/apps/...  \n",
       "\n",
       "[5 rows x 22 columns]"
      ]
     },
     "execution_count": 5,
     "metadata": {},
     "output_type": "execute_result"
    }
   ],
   "source": [
    "data_steam_snapshot.head()"
   ]
  }
 ],
 "metadata": {
  "kaggle": {
   "accelerator": "none",
   "dataSources": [
    {
     "databundleVersionId": 13391012,
     "sourceId": 110281,
     "sourceType": "competition"
    },
    {
     "datasetId": 2634549,
     "sourceId": 4507689,
     "sourceType": "datasetVersion"
    }
   ],
   "dockerImageVersionId": 31089,
   "isGpuEnabled": false,
   "isInternetEnabled": true,
   "language": "python",
   "sourceType": "notebook"
  },
  "kernelspec": {
   "display_name": "Python 3",
   "language": "python",
   "name": "python3"
  },
  "language_info": {
   "codemirror_mode": {
    "name": "ipython",
    "version": 3
   },
   "file_extension": ".py",
   "mimetype": "text/x-python",
   "name": "python",
   "nbconvert_exporter": "python",
   "pygments_lexer": "ipython3",
   "version": "3.11.13"
  },
  "papermill": {
   "default_parameters": {},
   "duration": 33.777988,
   "end_time": "2025-08-20T15:51:46.640753",
   "environment_variables": {},
   "exception": null,
   "input_path": "__notebook__.ipynb",
   "output_path": "__notebook__.ipynb",
   "parameters": {},
   "start_time": "2025-08-20T15:51:12.862765",
   "version": "2.6.0"
  }
 },
 "nbformat": 4,
 "nbformat_minor": 5
}
